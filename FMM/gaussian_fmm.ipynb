{
 "cells": [
  {
   "cell_type": "code",
   "execution_count": 1,
   "metadata": {},
   "outputs": [],
   "source": [
    "from fmm import FMMDistance\n",
    "import numpy as np\n",
    "import matplotlib.pyplot as plt\n",
    "import matplotlib.animation as animation\n",
    "from tqdm.notebook import tqdm\n",
    "import sys\n",
    "np.set_printoptions(threshold=sys.maxsize, linewidth=200, formatter={'float': lambda y: \"{:.0f}\".format(y)})"
   ]
  },
  {
   "cell_type": "code",
   "execution_count": 2,
   "metadata": {},
   "outputs": [
    {
     "name": "stdout",
     "output_type": "stream",
     "text": [
      "Calculating Distance: 2498it [00:01, 2366.94it/s]\n",
      "Calculations finished with 2498 iterations.\n"
     ]
    }
   ],
   "source": [
    "# We are going to use a one-source FMM\n",
    "grid_size = 50\n",
    "# initial_conditions = [(int(.5 * grid_size), int(.5 * grid_size))]\n",
    "initial_conditions = [(int(.25*grid_size), int(.5*grid_size)), (int(.75*grid_size), int(.5*grid_size))]\n",
    "\n",
    "fmm = FMMDistance(initial_conditions, grid_size)\n",
    "max_iteration, distance_mat = fmm.calculate_distance()"
   ]
  },
  {
   "cell_type": "code",
   "execution_count": 3,
   "metadata": {},
   "outputs": [
    {
     "name": "stdout",
     "output_type": "stream",
     "text": [
      "2498 (50, 50)\n"
     ]
    }
   ],
   "source": [
    "print(len(distance_mat), distance_mat[0].shape)"
   ]
  },
  {
   "cell_type": "code",
   "execution_count": 4,
   "metadata": {},
   "outputs": [
    {
     "name": "stdout",
     "output_type": "stream",
     "text": [
      "0.24197072451914337\n"
     ]
    }
   ],
   "source": [
    "def gaussian_height(sigma, x, mu=0):\n",
    "    first = 1.0/(np.sqrt(2 * np.pi * sigma**2))\n",
    "    second_pow_top = -1.0 * (x-mu)**2\n",
    "    second_pow_bot = 2.0 * sigma ** 2\n",
    "    second = np.exp(second_pow_top / second_pow_bot)\n",
    "    return first * second\n",
    "\n",
    "print(gaussian_height(sigma=1, x=1))"
   ]
  },
  {
   "cell_type": "code",
   "execution_count": 10,
   "metadata": {},
   "outputs": [],
   "source": [
    "res_mat = []\n",
    "for layer in range(0, len(distance_mat), 4):\n",
    "    curr = distance_mat[layer].copy()\n",
    "    curr[curr > 1e9] = -1\n",
    "    sigma = np.amax(curr)\n",
    "\n",
    "    temp = np.empty(shape=curr.shape)\n",
    "\n",
    "    for i in range(curr.shape[0]):\n",
    "        for j in range(curr.shape[1]):\n",
    "            if curr[i,j] != -1:\n",
    "                temp[i, j] = gaussian_height(sigma=sigma*2, x=curr[i,j]*2)\n",
    "            else:\n",
    "                temp[i, j] = np.inf\n",
    "    \n",
    "#     if layer % 10 == 0:\n",
    "#         print(temp)\n",
    "\n",
    "    res_mat.append(temp*1000-5)"
   ]
  },
  {
   "cell_type": "code",
   "execution_count": 11,
   "metadata": {},
   "outputs": [
    {
     "data": {
      "text/plain": [
       "<Figure size 640x480 with 0 Axes>"
      ]
     },
     "metadata": {},
     "output_type": "display_data"
    },
    {
     "data": {
      "image/png": "[encoded data removed]",
      "text/plain": [
       "<Figure size 640x480 with 2 Axes>"
      ]
     },
     "metadata": {},
     "output_type": "display_data"
    },
    {
     "name": "stdout",
     "output_type": "stream",
     "text": [
      "Done\n"
     ]
    }
   ],
   "source": [
    "max_iter = len(res_mat)\n",
    "\n",
    "for i in range(len(res_mat)):\n",
    "    res_mat[i][res_mat[i] > 1e9] = 0\n",
    "\n",
    "def create_anim(source_type):\n",
    "    plt.clf()\n",
    "    fig, ax = plt.subplots(facecolor='white')\n",
    "\n",
    "    cax = ax.pcolormesh(res_mat[0], cmap=plt.cm.jet, vmin=0, vmax=100)\n",
    "    fig.colorbar(cax)\n",
    "\n",
    "    def animate(i):\n",
    "        ax.set_title(f\"FMM Animation: {i}/{max_iter}\")\n",
    "        cax.set_array(res_mat[i].flatten())\n",
    "\n",
    "    anim = animation.FuncAnimation(fig, animate, repeat_delay=2000, interval=1, frames=range(int(max_iter)))\n",
    "    anim.save(f'{source_type}_source_fmm.gif')\n",
    "    plt.show()\n",
    "\n",
    "    print(\"Done\")\n",
    "\n",
    "create_anim(\"figures/two_temp_1\")"
   ]
  }
 ],
 "metadata": {
  "interpreter": {
   "hash": "0c30431e9a4f76c1a74bdba72c7688728a0a7c0b5c6505b0120c225fc8a0c378"
  },
  "kernelspec": {
   "display_name": "Python 3.7 (Heat-Diffusion)",
   "language": "python",
   "name": "heat-diffusion"
  },
  "language_info": {
   "codemirror_mode": {
    "name": "ipython",
    "version": 3
   },
   "file_extension": ".py",
   "mimetype": "text/x-python",
   "name": "python",
   "nbconvert_exporter": "python",
   "pygments_lexer": "ipython3",
   "version": "3.7.10"
  }
 },
 "nbformat": 4,
 "nbformat_minor": 4
}
