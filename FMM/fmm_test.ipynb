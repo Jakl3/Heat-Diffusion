{
 "cells": [
  {
   "cell_type": "code",
   "execution_count": 1,
   "id": "a8fd8809-2340-4be0-9974-18ff6dbe4a8f",
   "metadata": {},
   "outputs": [],
   "source": [
    "import numpy as np\n",
    "import matplotlib.pyplot as plt\n",
    "import matplotlib.animation as animation\n",
    "from tqdm import tqdm"
   ]
  },
  {
   "cell_type": "markdown",
   "id": "8e7d9f90-646d-4e4f-84ad-3b54dff91cb4",
   "metadata": {},
   "source": [
    "## Using scikit-fmm\n",
    "* https://github.com/scikit-fmm/scikit-fmm"
   ]
  },
  {
   "cell_type": "code",
   "execution_count": 2,
   "id": "1c68cf27-0610-40a4-8251-e7324a5eb379",
   "metadata": {},
   "outputs": [
    {
     "data": {
      "text/plain": [
       "<matplotlib.colorbar.Colorbar at 0x7fb26d963190>"
      ]
     },
     "execution_count": 2,
     "metadata": {},
     "output_type": "execute_result"
    },
    {
     "data": {
      "image/png": "[encoded data removed]",
      "text/plain": [
       "<Figure size 432x288 with 2 Axes>"
      ]
     },
     "metadata": {},
     "output_type": "display_data"
    }
   ],
   "source": [
    "import skfmm\n",
    "n = 100\n",
    "boundary = np.ones((n,n))\n",
    "boundary[int(.5*n),int(.5*n)] = -1\n",
    "res = skfmm.distance(boundary)\n",
    "fig, ax = plt.subplots(facecolor='white')\n",
    "plot = ax.pcolormesh(res, cmap=plt.cm.jet.reversed())\n",
    "fig.colorbar(plot)\n",
    "#plt.savefig('skfmm.png')"
   ]
  },
  {
   "cell_type": "markdown",
   "id": "6dfb0c6c-3f1f-4ef3-83ef-913066690f08",
   "metadata": {},
   "source": [
    "## Manual - Attempt 2"
   ]
  },
  {
   "cell_type": "code",
   "execution_count": 3,
   "id": "d074698d-7522-4091-9a63-9dfbb9146e26",
   "metadata": {},
   "outputs": [],
   "source": [
    "import sys\n",
    "np.set_printoptions(threshold=sys.maxsize, linewidth=200)"
   ]
  },
  {
   "cell_type": "markdown",
   "id": "524b0d24-345b-4f4a-97d8-abe2de7b2d54",
   "metadata": {},
   "source": [
    "## Manual - Attempt 1\n",
    "### didn't work as expected, I'm trying another approach"
   ]
  },
  {
   "cell_type": "code",
   "execution_count": 4,
   "id": "e7decb8b-d10b-4251-9567-46f2d855e89e",
   "metadata": {},
   "outputs": [],
   "source": [
    "# Initialize initial grid, u(k, i, j)\n",
    "plate_length = 100  # size of the plate/matrix to use\n",
    "max_iter_time = 10  # number of timesteps\n",
    "u = np.full((plate_length, plate_length), 1000)"
   ]
  },
  {
   "cell_type": "code",
   "execution_count": 5,
   "id": "f3052446-b912-42ac-84e8-a8df310f561e",
   "metadata": {},
   "outputs": [],
   "source": [
    "# Create the label matrix\n",
    "\"\"\"\n",
    "Dictionary for labels\n",
    "far - far\n",
    "con - considered\n",
    "acc - accepted\n",
    "\"\"\"\n",
    "labels = np.full((plate_length, plate_length), 'far')"
   ]
  },
  {
   "cell_type": "code",
   "execution_count": 6,
   "id": "e4cc2772-7db3-4eee-8d07-cf829cf30a0e",
   "metadata": {},
   "outputs": [],
   "source": [
    "# Set the initial source point\n",
    "initial = int(.5*plate_length)\n",
    "u[initial, initial] = 0\n",
    "labels[initial, initial] = 'acc'"
   ]
  },
  {
   "cell_type": "code",
   "execution_count": 7,
   "id": "885a0489-3715-47f5-855a-9eb0b8c31319",
   "metadata": {},
   "outputs": [],
   "source": [
    "# This doesn't work and I don't know why, so I'm trying another approach\n",
    "def calculate(u, labels, f=None, h=1):\n",
    "    if f == None:\n",
    "        f = np.ones((u.shape[0], u.shape[1]))\n",
    "    for _ in range(max_iter_time):\n",
    "        # calculate far node\n",
    "        for i in range(1,plate_length-1):\n",
    "            for j in range(1,plate_length-1):\n",
    "                if labels[i, j] == 'far':\n",
    "                    #print(u[i-1, j], u[i+1, j])\n",
    "                    u_h = min(u[i-1, j], u[i+1, j])\n",
    "                    u_v = min(u[i, j-1], u[i, j+1])\n",
    "                    u_new = 0\n",
    "                    val_1 = (u_h+u_v)**2\n",
    "                    val_2 = 2*(u_h**2 + u_v**2 - ((h**2)/(f[i,j]**2)))\n",
    "                    #print(\">>1\", \"u_new\", u_new, \"u_ij\", u[k, i, j])\n",
    "                    #print(f'u_h {u_h} | u_v {u_v} | h {h} | f[i,j] {f[i,j]}')\n",
    "                    if abs(u_h-u_v) >= h/f[i,j]:\n",
    "                        u_new += min(u_h, u_v) + (h/f[i,j])\n",
    "                        #print(\">>2\", \"u_new\", u_new, \"u_ij\", u[k, i, j])\n",
    "                    else:\n",
    "                        #print(\">>3\", \"u_new\", u_new, \"u_ij\", u[k, i, j])\n",
    "                        u_new += (u_h+u_v)/2\n",
    "                        #print(\">>4\", \"u_new\", u_new, \"u_ij\", u[k, i, j])\n",
    "                        u_new += (1/2) * np.sqrt(val_1 - val_2)\n",
    "                        #print(\">>5\", \"u_new\", u_new, \"u_ij\", u[k, i, j])\n",
    "                    #print(\">>6\", \"u_new\", u_new, \"u_ij\", u[k, i, j])\n",
    "                    if u_new < u[i, j]:\n",
    "                        #print(labels)\n",
    "                        #print(u_new, u[k, i, j])\n",
    "                        u[i, j] = u_new\n",
    "                        labels[i, j] = 'con'\n",
    "        #print(labels)\n",
    "        \n",
    "        smallest_u = np.inf\n",
    "        # find smallest u in considereds\n",
    "        smallest_i = -1\n",
    "        smallest_j = -1\n",
    "        for i in range(plate_length):\n",
    "            for j in range(plate_length):\n",
    "                if labels[i, j] == 'con':\n",
    "                    #print(u[k,i,j], smallest_u)\n",
    "                    if u[i, j] < smallest_u:\n",
    "                        smallest_u = u[i, j]\n",
    "                        smallest_i = i\n",
    "                        smallest_j = j\n",
    "                        #print(\">>>\", smallest_i, smallest_j)\n",
    "        \n",
    "        labels[smallest_i, smallest_j] = 'acc'\n",
    "        \n",
    "        dir_i = [-1,0,1,0]\n",
    "        dir_j = [0,-1,0,1]\n",
    "        for abc in range(4):\n",
    "            t_i = dir_i[abc]\n",
    "            t_j = dir_j[abc]\n",
    "            if labels[smallest_i+t_i, smallest_j+t_j] != 'acc':\n",
    "                i = smallest_i+t_i\n",
    "                j = smallest_j+t_j\n",
    "                u_h = min(u[i-1, j], u[i+1, j])\n",
    "                u_v = min(u[i, j-1], u[i, j+1])\n",
    "                u_new = 0\n",
    "                val_1 = (u_h+u_v)**2\n",
    "                val_2 = 2*(u_h**2 + u_v**2 - ((h**2)/(f[i,j]**2)))\n",
    "                if abs(u_h-u_v) >= h/f[i,j]:\n",
    "                    u_new += min(u_h, u_v) + (h/f[i,j])\n",
    "                else:\n",
    "                    u_new += (u_h+u_v)/2\n",
    "                    u_new += (1/2) * np.sqrt(val_1 - val_2)\n",
    "                #print(u_new, u[k, i, j])\n",
    "                if u_new < u[i, j]:\n",
    "                    #print(labels)\n",
    "                    #print(u_new, u[k, i, j])\n",
    "                    u[i, j] = u_new\n",
    "                    labels[i, j] = 'con'\n",
    "\n",
    "calculate(u, labels)"
   ]
  },
  {
   "cell_type": "code",
   "execution_count": 8,
   "id": "ff736be2-c482-4e08-9979-4c04f5128829",
   "metadata": {},
   "outputs": [],
   "source": [
    "# scales the inf values down so color map correctly shows it\n",
    "flat = u.flatten()\n",
    "flat.sort()\n",
    "highest = list(set(flat))[-2]\n",
    "u[u>50] = 2*highest"
   ]
  },
  {
   "cell_type": "code",
   "execution_count": 9,
   "id": "3b63af7e-8874-4216-8c0d-cced79dd0745",
   "metadata": {},
   "outputs": [
    {
     "data": {
      "text/plain": [
       "<matplotlib.colorbar.Colorbar at 0x7fb26d7c4190>"
      ]
     },
     "execution_count": 9,
     "metadata": {},
     "output_type": "execute_result"
    },
    {
     "data": {
      "image/png": "[encoded data removed]",
      "text/plain": [
       "<Figure size 432x288 with 2 Axes>"
      ]
     },
     "metadata": {
      "needs_background": "light"
     },
     "output_type": "display_data"
    }
   ],
   "source": [
    "plt.pcolormesh(u, cmap=plt.cm.jet.reversed())\n",
    "plt.colorbar()"
   ]
  },
  {
   "cell_type": "code",
   "execution_count": null,
   "id": "59a76223-ef8d-464b-8338-306a7de4f20a",
   "metadata": {},
   "outputs": [],
   "source": []
  },
  {
   "cell_type": "code",
   "execution_count": null,
   "id": "192aeb32-d864-4626-a134-a4c982efdc29",
   "metadata": {},
   "outputs": [],
   "source": []
  }
 ],
 "metadata": {
  "kernelspec": {
   "display_name": "Python 3",
   "language": "python",
   "name": "python3"
  },
  "language_info": {
   "codemirror_mode": {
    "name": "ipython",
    "version": 3
   },
   "file_extension": ".py",
   "mimetype": "text/x-python",
   "name": "python",
   "nbconvert_exporter": "python",
   "pygments_lexer": "ipython3",
   "version": "3.8.8"
  }
 },
 "nbformat": 4,
 "nbformat_minor": 5
}
