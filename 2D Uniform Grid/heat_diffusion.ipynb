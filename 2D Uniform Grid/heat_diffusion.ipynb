{
 "cells": [
  {
   "cell_type": "code",
   "execution_count": 1,
   "metadata": {},
   "outputs": [
    {
     "name": "stdout",
     "output_type": "stream",
     "text": [
      "2D heat equation solver\n",
      "0.125 0.25\n"
     ]
    }
   ],
   "source": [
    "import numpy as np\n",
    "import matplotlib.pyplot as plt\n",
    "import matplotlib.animation as animation\n",
    "from matplotlib.animation import FuncAnimation\n",
    "from tqdm import tqdm\n",
    "from IPython import display\n",
    "import sys\n",
    "\n",
    "print(\"2D heat equation solver\")\n",
    "\n",
    "plate_length = 100\n",
    "max_iter_time = 50\n",
    "alpha = 2\n",
    "delta_x = 1\n",
    "\n",
    "delta_t = (delta_x ** 2)/(4 * alpha)\n",
    "gamma = (alpha * delta_t) / (delta_x ** 2) # gamma seems to not change, even if i change alpha\n",
    "print(delta_t, gamma)\n",
    "\n",
    "# Initialize solution: the grid of u(k, i, j)\n",
    "u = np.empty((max_iter_time, plate_length, plate_length))\n",
    "\n",
    "# Initial condition everywhere inside the grid\n",
    "u_initial = 0\n",
    "\n",
    "# Boundary conditions\n",
    "u_top = 0.0\n",
    "u_left = 0.0\n",
    "u_bottom = 0.0\n",
    "u_right = 0.0\n",
    "\n",
    "# Set the initial condition\n",
    "u.fill(u_initial)\n",
    "\n",
    "# Set the boundary conditions\n",
    "u[:, (plate_length-1):, :] = u_top\n",
    "u[:, :, :1] = u_left\n",
    "u[:, :1, 1:] = u_bottom\n",
    "u[:, :, (plate_length-1):] = u_right\n",
    "\n",
    "# bounds = [(45,55, 45,55), (20,30, 20,30), (70,80, 70,80), (20,30, 70,80), (70,80, 20,30)]\n",
    "bounds = [(45, 55, 45, 55)]\n",
    "for lbx, ubx, lby, uby in bounds:\n",
    "    u[:, lbx:ubx, lby:uby] = 100.0\n",
    "\n",
    "def calculate(u):\n",
    "    for k in tqdm(range(0, max_iter_time-1, 1)):\n",
    "        for i in range(1, plate_length-1, delta_x):\n",
    "            for j in range(1, plate_length-1, delta_x):\n",
    "                good = True\n",
    "                for lbx, ubx, lby, uby in bounds:\n",
    "                    if (i > lbx and i < ubx-1) and (j > lby and j < uby-1):\n",
    "                        good = False\n",
    "                if good:\n",
    "                    u[k + 1, i, j] = gamma * (u[k][i+1][j] + u[k][i-1][j] + u[k][i][j+1] + u[k][i][j-1] - 4*u[k][i][j]) + u[k][i][j]\n",
    "\n",
    "    return u"
   ]
  },
  {
   "cell_type": "code",
   "execution_count": 2,
   "metadata": {},
   "outputs": [
    {
     "name": "stderr",
     "output_type": "stream",
     "text": [
      "100%|██████████| 49/49 [00:01<00:00, 43.08it/s]\n"
     ]
    }
   ],
   "source": [
    "# Do the calculation here\n",
    "u = calculate(u)"
   ]
  },
  {
   "cell_type": "code",
   "execution_count": 3,
   "metadata": {},
   "outputs": [],
   "source": [
    "fig, ax = plt.subplots(facecolor='white')\n",
    "init = ax.pcolormesh(u[0], cmap=plt.cm.jet, vmin=0, vmax=100)\n",
    "fig.colorbar(init)\n",
    "\n",
    "def plotheatmap(u_k, k):\n",
    "    # Clear the current plot figure\n",
    "    plt.clf()\n",
    "\n",
    "    ax.set_title(f\"Temperature at t = {k*delta_t:.3f} unit time\")\n",
    "    ax.set_xlabel(\"x\")\n",
    "    ax.set_ylabel(\"y\")\n",
    "\n",
    "    # This is to plot u_k (u at time-step k)\n",
    "    im = ax.pcolormesh(u_k, cmap=plt.cm.jet, vmin=0, vmax=100)\n",
    "    return ax\n",
    "\n",
    "def animate(k):\n",
    "    plotheatmap(u[k], k)"
   ]
  },
  {
   "cell_type": "code",
   "execution_count": 4,
   "metadata": {},
   "outputs": [],
   "source": [
    "Writer = animation.writers['ffmpeg']\n",
    "writer = Writer(fps=120, bitrate=1000)"
   ]
  },
  {
   "cell_type": "code",
   "execution_count": 7,
   "metadata": {},
   "outputs": [
    {
     "name": "stdout",
     "output_type": "stream",
     "text": [
      " 70%|███████   | 35/50 [00:27<00:11,  1.27it/s] \n"
     ]
    }
   ],
   "source": [
    "anim = animation.FuncAnimation(fig=fig, func=animate, frames=tqdm(range(max_iter_time), file=sys.stdout))\n",
    "#anim = animation.FuncAnimation(fig=fig, func=animate, frames=tqdm(range(10), initial=1, position=0), interval=200, blit=False)\n",
    "save_file = \"heat_diffusion.gif\"\n",
    "anim.save(save_file, writer=writer)"
   ]
  },
  {
   "cell_type": "code",
   "execution_count": 6,
   "metadata": {},
   "outputs": [
    {
     "data": {
      "image/gif": "[encoded data removed]",
      "text/plain": [
       "<IPython.core.display.Image object>"
      ]
     },
     "execution_count": 6,
     "metadata": {},
     "output_type": "execute_result"
    },
    {
     "name": "stdout",
     "output_type": "stream",
     "text": [
      " 70%|███████   | 35/50 [00:18<00:00, 191.28it/s]"
     ]
    }
   ],
   "source": [
    "display.Image(filename=save_file)"
   ]
  }
 ],
 "metadata": {
  "interpreter": {
   "hash": "0c30431e9a4f76c1a74bdba72c7688728a0a7c0b5c6505b0120c225fc8a0c378"
  },
  "kernelspec": {
   "display_name": "Python 3.7.10 64-bit ('Heat-Diffusion': conda)",
   "name": "python3"
  },
  "language_info": {
   "codemirror_mode": {
    "name": "ipython",
    "version": 3
   },
   "file_extension": ".py",
   "mimetype": "text/x-python",
   "name": "python",
   "nbconvert_exporter": "python",
   "pygments_lexer": "ipython3",
   "version": "3.7.10"
  }
 },
 "nbformat": 4,
 "nbformat_minor": 5
}